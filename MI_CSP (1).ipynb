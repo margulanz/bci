{
  "cells": [
    {
      "cell_type": "code",
      "execution_count": null,
      "metadata": {
        "id": "QoqC-JnWXPgM"
      },
      "outputs": [],
      "source": [
        "import scipy.io\n",
        "import numpy as np\n",
        "import matplotlib.pyplot as plt\n",
        "from sklearn.discriminant_analysis import LinearDiscriminantAnalysis as LDA\n",
        "from scipy import signal\n",
        "from scipy.signal import butter, sosfilt, sosfreqz\n",
        "from sklearn.metrics import accuracy_score"
      ]
    },
    {
      "cell_type": "code",
      "source": [
        "from google.colab import drive\n",
        "drive.mount('/content/drive')"
      ],
      "metadata": {
        "colab": {
          "base_uri": "https://localhost:8080/"
        },
        "id": "Wjf61wmxavAH",
        "outputId": "3c851def-623a-412a-ad3f-f09c7bbd7850"
      },
      "execution_count": null,
      "outputs": [
        {
          "output_type": "stream",
          "name": "stdout",
          "text": [
            "Mounted at /content/drive\n"
          ]
        }
      ]
    },
    {
      "cell_type": "code",
      "execution_count": null,
      "metadata": {
        "id": "bZ3JOnkmXPgQ"
      },
      "outputs": [],
      "source": [
        "## Motor Imagery dataset load\n",
        "\n",
        "mat = scipy.io.loadmat('drive/MyDrive/MI_cnt_train.mat')\n",
        "tr_cnt_ = np.array(mat.get('cnt1'))\n",
        "\n",
        "mat_Y = scipy.io.loadmat('drive/MyDrive/MI_cnt_train_label.mat')\n",
        "tr_Label = np.array(mat_Y.get('label'))\n",
        "\n",
        "mat_m = scipy.io.loadmat('drive/MyDrive/MI_cnt_train_marker.mat')\n",
        "tr_marker = np.array(mat_m.get('marker'))\n",
        "\n",
        "mat = scipy.io.loadmat('drive/MyDrive/MI_cnt_test.mat')\n",
        "te_cnt_ = np.array(mat.get('cnt1'))\n",
        "\n",
        "mat_Y = scipy.io.loadmat('drive/MyDrive/MI_cnt_test_label.mat')\n",
        "te_Label = np.array(mat_Y.get('label'))\n",
        "\n",
        "mat_m = scipy.io.loadmat('drive/MyDrive/MI_cnt_test_marker.mat')\n",
        "te_marker = np.array(mat_m.get('marker'))"
      ]
    },
    {
      "cell_type": "code",
      "execution_count": null,
      "metadata": {
        "colab": {
          "base_uri": "https://localhost:8080/"
        },
        "id": "4YaxyfotXPgR",
        "outputId": "a5395867-7451-472d-e7b8-206a9c8a1ae6"
      },
      "outputs": [
        {
          "output_type": "stream",
          "name": "stdout",
          "text": [
            "(139720, 62)\n",
            "(2, 100)\n",
            "(1, 100)\n",
            "23.286666666666665 minutes\n"
          ]
        }
      ],
      "source": [
        "CH = ['Fp1','Fp2','F7','F3','Fz','F4','F8','FC5','FC1','FC2','FC6', \n",
        "      'T7','C3','Cz','C4','T8','TP9','CP5','CP1','CP2','CP6','TP10',\n",
        "      'P7','P3','Pz','P4','P8','PO9''O1','Oz','O2','PO10','FC3','FC4',\n",
        "      'C5','C1','C2','C6','CP3','CPz','CP4','P1','P2','POz','FT9','FTT9h',\n",
        "      'TTP7h','TP7','TPP9h','FT10','FTT10h','TPP8h','TP8','TPP10h','F9',\n",
        "      'F10','AF7','AF3','AF4','AF8','PO3','PO4']\n",
        "\n",
        "print(np.shape(tr_cnt_))\n",
        "print(np.shape(tr_Label))\n",
        "print(np.shape(tr_marker))\n",
        "\n",
        "print(len(tr_cnt_)/60/100, \"minutes\")"
      ]
    },
    {
      "cell_type": "markdown",
      "metadata": {
        "id": "auTQ0aa7XPgU"
      },
      "source": [
        "- We can use heuristic parameters (e.g., band, time-interval, channel) based on out prior knowledge\n",
        "- Once you decided to use the general parameters, it should be applied to all subjects\n",
        "- Note that we can find better parameters (or maybe subject-specific parameters) from the validation dataset (not from test dataset)"
      ]
    },
    {
      "cell_type": "code",
      "execution_count": null,
      "metadata": {
        "colab": {
          "base_uri": "https://localhost:8080/"
        },
        "id": "w4k7HHVbXPgX",
        "outputId": "a30f4abb-29ad-4c20-d32e-17c2cfd09e35"
      },
      "outputs": [
        {
          "output_type": "stream",
          "name": "stdout",
          "text": [
            "61 channels were selected\n"
          ]
        },
        {
          "output_type": "execute_result",
          "data": {
            "text/plain": [
              "(167364, 62)"
            ]
          },
          "metadata": {},
          "execution_count": 6
        }
      ],
      "source": [
        "band = [8, 12]\n",
        "interval = [150, 350]\n",
        "\n",
        "# channel selection \n",
        "ch_idx = list()\n",
        "ch_name = list()\n",
        "for i in CH:\n",
        "    '''\n",
        "    if 'C' in i: # you can select central area\n",
        "        ch_idx.append(CH.index(i))\n",
        "        ch_name.append(CH[CH.index(i)])        \n",
        "    '''\n",
        "    if 1: # or use entire channel\n",
        "        ch_idx.append(CH.index(i))\n",
        "        ch_name.append(CH[CH.index(i)])\n",
        "  \n",
        "# Here we select the channels\n",
        "\n",
        "if not ch_idx:\n",
        "    tr_cnt = tr_cnt_[:, ch_idx]\n",
        "    te_cnt = te_cnt_[:, ch_idx]\n",
        "\n",
        "print(f\"{len(ch_name)} channels were selected\" )\n",
        "np.shape(te_cnt_)"
      ]
    },
    {
      "cell_type": "markdown",
      "metadata": {
        "id": "I8bB_HXBXPga"
      },
      "source": [
        "## Band-pass filtering\n",
        "- to remove noise artifacts (muscle, eye movement and blinking, power line, and interference with other device.)\n",
        "- noises from the biological sinal should be ranged in low frequencies\n",
        "- Power line noise at 50 and 60 Hz\n",
        "\n",
        "### ERD/ERS patterns would be ranged(observed) between 5 - 30 hz\n",
        "- General frequency : 5-30 hz or 8 12 hz\n",
        "- User specific frequency investigated in validation set\n",
        "- Frequency concatenation: [5-30hz] + [8-12hz]"
      ]
    },
    {
      "cell_type": "code",
      "execution_count": null,
      "metadata": {
        "id": "zHVsNutAXPgb"
      },
      "outputs": [],
      "source": [
        "def my_filt(dat, band):    \n",
        "    sos = butter(5, band, 'band', fs=100, output='sos')   \n",
        "    fdat = list()\n",
        "    for i in range(np.size(dat, 1)):\n",
        "        tm = signal.sosfilt(sos, dat[:,i])\n",
        "        fdat.append(tm)  \n",
        "    return np.array(fdat).transpose()\n",
        "\n",
        "tr_flt_cnt = my_filt(tr_cnt_, band)"
      ]
    },
    {
      "cell_type": "markdown",
      "metadata": {
        "id": "Fs_B4vY6XPgc"
      },
      "source": [
        "## Segmentation\n",
        "- Selected time interval"
      ]
    },
    {
      "cell_type": "code",
      "execution_count": null,
      "metadata": {
        "id": "Qj2uYNgeXPgc"
      },
      "outputs": [],
      "source": [
        "tr_seg = list()\n",
        "for i in range(np.size(tr_Label, 1)):\n",
        "    ival = range(tr_marker[0, i]+interval[0], tr_marker[0, i]+interval[1])\n",
        "    tr_seg.append(tr_flt_cnt[ival, :] ) "
      ]
    },
    {
      "cell_type": "markdown",
      "metadata": {
        "id": "MkBFzugAXPgd"
      },
      "source": [
        "## Feature extraction\n",
        "- Log-variance feature"
      ]
    },
    {
      "cell_type": "code",
      "execution_count": null,
      "metadata": {
        "scrolled": true,
        "colab": {
          "base_uri": "https://localhost:8080/",
          "height": 296
        },
        "id": "3yXkivZYXPgd",
        "outputId": "bab45960-c22e-4d78-98ac-67737a905d8f"
      },
      "outputs": [
        {
          "output_type": "execute_result",
          "data": {
            "text/plain": [
              "Text(0, 0.5, 'Dim 14: C4 channel:')"
            ]
          },
          "metadata": {},
          "execution_count": 9
        },
        {
          "output_type": "display_data",
          "data": {
            "text/plain": [
              "<Figure size 432x288 with 1 Axes>"
            ],
            "image/png": "[encoded data removed]"
          },
          "metadata": {
            "needs_background": "light"
          }
        }
      ],
      "source": [
        "tr_ft_c1 = np.log(np.var(np.array(tr_seg), 1)) [np.where(tr_Label[0,:] == 0)]\n",
        "tr_ft_c2 = np.log(np.var(np.array(tr_seg), 1)) [np.where(tr_Label[0,:] == 1)]\n",
        "\n",
        "plt.scatter(tr_ft_c1[:,ch_name.index('C3')], tr_ft_c1[:,ch_name.index('C4')], c = 'r')\n",
        "plt.scatter(tr_ft_c2[:,ch_name.index('C3')], tr_ft_c2[:,ch_name.index('C4')])\n",
        "\n",
        "plt.xlabel('Dim 12: C3 channel:')\n",
        "plt.ylabel('Dim 14: C4 channel:')"
      ]
    },
    {
      "cell_type": "markdown",
      "metadata": {
        "id": "dBKa8n-BXPge"
      },
      "source": [
        "## Classifier\n",
        "- LDA"
      ]
    },
    {
      "cell_type": "code",
      "execution_count": null,
      "metadata": {
        "colab": {
          "base_uri": "https://localhost:8080/",
          "height": 74
        },
        "id": "Yz1KvSa6XPge",
        "outputId": "6b7cb7eb-6f5d-4757-de76-b4c7dd4d37f2"
      },
      "outputs": [
        {
          "output_type": "execute_result",
          "data": {
            "text/plain": [
              "LinearDiscriminantAnalysis()"
            ],
            "text/html": [
              "<style>#sk-container-id-1 {color: black;background-color: white;}#sk-container-id-1 pre{padding: 0;}#sk-container-id-1 div.sk-toggleable {background-color: white;}#sk-container-id-1 label.sk-toggleable__label {cursor: pointer;display: block;width: 100%;margin-bottom: 0;padding: 0.3em;box-sizing: border-box;text-align: center;}#sk-container-id-1 label.sk-toggleable__label-arrow:before {content: \"▸\";float: left;margin-right: 0.25em;color: #696969;}#sk-container-id-1 label.sk-toggleable__label-arrow:hover:before {color: black;}#sk-container-id-1 div.sk-estimator:hover label.sk-toggleable__label-arrow:before {color: black;}#sk-container-id-1 div.sk-toggleable__content {max-height: 0;max-width: 0;overflow: hidden;text-align: left;background-color: #f0f8ff;}#sk-container-id-1 div.sk-toggleable__content pre {margin: 0.2em;color: black;border-radius: 0.25em;background-color: #f0f8ff;}#sk-container-id-1 input.sk-toggleable__control:checked~div.sk-toggleable__content {max-height: 200px;max-width: 100%;overflow: auto;}#sk-container-id-1 input.sk-toggleable__control:checked~label.sk-toggleable__label-arrow:before {content: \"▾\";}#sk-container-id-1 div.sk-estimator input.sk-toggleable__control:checked~label.sk-toggleable__label {background-color: #d4ebff;}#sk-container-id-1 div.sk-label input.sk-toggleable__control:checked~label.sk-toggleable__label {background-color: #d4ebff;}#sk-container-id-1 input.sk-hidden--visually {border: 0;clip: rect(1px 1px 1px 1px);clip: rect(1px, 1px, 1px, 1px);height: 1px;margin: -1px;overflow: hidden;padding: 0;position: absolute;width: 1px;}#sk-container-id-1 div.sk-estimator {font-family: monospace;background-color: #f0f8ff;border: 1px dotted black;border-radius: 0.25em;box-sizing: border-box;margin-bottom: 0.5em;}#sk-container-id-1 div.sk-estimator:hover {background-color: #d4ebff;}#sk-container-id-1 div.sk-parallel-item::after {content: \"\";width: 100%;border-bottom: 1px solid gray;flex-grow: 1;}#sk-container-id-1 div.sk-label:hover label.sk-toggleable__label {background-color: #d4ebff;}#sk-container-id-1 div.sk-serial::before {content: \"\";position: absolute;border-left: 1px solid gray;box-sizing: border-box;top: 0;bottom: 0;left: 50%;z-index: 0;}#sk-container-id-1 div.sk-serial {display: flex;flex-direction: column;align-items: center;background-color: white;padding-right: 0.2em;padding-left: 0.2em;position: relative;}#sk-container-id-1 div.sk-item {position: relative;z-index: 1;}#sk-container-id-1 div.sk-parallel {display: flex;align-items: stretch;justify-content: center;background-color: white;position: relative;}#sk-container-id-1 div.sk-item::before, #sk-container-id-1 div.sk-parallel-item::before {content: \"\";position: absolute;border-left: 1px solid gray;box-sizing: border-box;top: 0;bottom: 0;left: 50%;z-index: -1;}#sk-container-id-1 div.sk-parallel-item {display: flex;flex-direction: column;z-index: 1;position: relative;background-color: white;}#sk-container-id-1 div.sk-parallel-item:first-child::after {align-self: flex-end;width: 50%;}#sk-container-id-1 div.sk-parallel-item:last-child::after {align-self: flex-start;width: 50%;}#sk-container-id-1 div.sk-parallel-item:only-child::after {width: 0;}#sk-container-id-1 div.sk-dashed-wrapped {border: 1px dashed gray;margin: 0 0.4em 0.5em 0.4em;box-sizing: border-box;padding-bottom: 0.4em;background-color: white;}#sk-container-id-1 div.sk-label label {font-family: monospace;font-weight: bold;display: inline-block;line-height: 1.2em;}#sk-container-id-1 div.sk-label-container {text-align: center;}#sk-container-id-1 div.sk-container {/* jupyter's `normalize.less` sets `[hidden] { display: none; }` but bootstrap.min.css set `[hidden] { display: none !important; }` so we also need the `!important` here to be able to override the default hidden behavior on the sphinx rendered scikit-learn.org. See: https://github.com/scikit-learn/scikit-learn/issues/21755 */display: inline-block !important;position: relative;}#sk-container-id-1 div.sk-text-repr-fallback {display: none;}</style><div id=\"sk-container-id-1\" class=\"sk-top-container\"><div class=\"sk-text-repr-fallback\"><pre>LinearDiscriminantAnalysis()</pre><b>In a Jupyter environment, please rerun this cell to show the HTML representation or trust the notebook. <br />On GitHub, the HTML representation is unable to render, please try loading this page with nbviewer.org.</b></div><div class=\"sk-container\" hidden><div class=\"sk-item\"><div class=\"sk-estimator sk-toggleable\"><input class=\"sk-toggleable__control sk-hidden--visually\" id=\"sk-estimator-id-1\" type=\"checkbox\" checked><label for=\"sk-estimator-id-1\" class=\"sk-toggleable__label sk-toggleable__label-arrow\">LinearDiscriminantAnalysis</label><div class=\"sk-toggleable__content\"><pre>LinearDiscriminantAnalysis()</pre></div></div></div></div></div>"
            ]
          },
          "metadata": {},
          "execution_count": 10
        }
      ],
      "source": [
        "Y = np.concatenate((np.ones(len(tr_ft_c1)), np.ones(len(tr_ft_c2))+1))\n",
        "clf = LDA()\n",
        "clf.fit(np.concatenate((tr_ft_c1, tr_ft_c2), axis = 0), Y)"
      ]
    },
    {
      "cell_type": "markdown",
      "metadata": {
        "id": "WNFrKiqXXPgf"
      },
      "source": [
        "## Performance evaluation using the test dataset\n",
        "- Data processing step and parameters the should be the same "
      ]
    },
    {
      "cell_type": "code",
      "execution_count": null,
      "metadata": {
        "colab": {
          "base_uri": "https://localhost:8080/"
        },
        "id": "iWUWnwLvXPgg",
        "outputId": "454967c7-347b-42ad-fb35-205ed4b48482"
      },
      "outputs": [
        {
          "output_type": "execute_result",
          "data": {
            "text/plain": [
              "0.66"
            ]
          },
          "metadata": {},
          "execution_count": 11
        }
      ],
      "source": [
        "# test dataset load \n",
        "te_flt_cnt = my_filt(te_cnt_, band)\n",
        "\n",
        "te_seg = list()\n",
        "for i in range(np.size(te_Label, 1)):\n",
        "    ival = range(te_marker[0, i]+interval[0], te_marker[0, i]+interval[1])\n",
        "    te_seg.append(te_flt_cnt[ival, :] )\n",
        "    \n",
        "te_ft_c1 = np.log(np.var(np.array(te_seg), 1)) [np.where(te_Label[0,:] == 0)]\n",
        "te_ft_c2 = np.log(np.var(np.array(te_seg), 1)) [np.where(te_Label[0,:] == 1)]\n",
        "\n",
        "Yt = np.concatenate((np.ones(len(te_ft_c1)), np.ones(len(te_ft_c2))+1))\n",
        "clf.predict(np.concatenate((te_ft_c1, te_ft_c2), axis = 0))\n",
        "accuracy_score(Yt, clf.predict(np.concatenate((te_ft_c1, te_ft_c2), axis = 0)))"
      ]
    },
    {
      "cell_type": "markdown",
      "metadata": {
        "id": "4n6Y7XOWXPgg"
      },
      "source": [
        "# Approach II\n",
        "- Classification results with Spatial filtering - Common Spatial Filter"
      ]
    },
    {
      "cell_type": "markdown",
      "metadata": {
        "id": "-a1PsUvkXPgh"
      },
      "source": [
        "Here we already have segmented data:\n",
        "\n",
        "C1: (50, 200, 62)  (trial, data points, channel)\n",
        "\n",
        "permute -> (200, 50, 62)\n",
        "\n",
        "reshape -> (200x50, 62) -> transpose (62, 10000) \n",
        "\n",
        "covariance -> (62, 62)"
      ]
    },
    {
      "cell_type": "code",
      "execution_count": null,
      "metadata": {
        "id": "ifOuog65XPgi"
      },
      "outputs": [],
      "source": [
        "C1 = np.array(tr_seg)[np.where(tr_Label[0,:] == 0)]\n",
        "C2 = np.array(tr_seg)[np.where(tr_Label[0,:] == 1)]\n",
        "\n",
        "C1 = np.transpose(C1, (1, 0, 2))\n",
        "C2 = np.transpose(C2, (1, 0, 2))\n",
        "\n",
        "C1 = np.reshape(C1, (10000, np.size(C1, 2)))\n",
        "C2 = np.reshape(C2, (10000, np.size(C2, 2)))\n",
        "\n",
        "Cov1 = np.cov(np.transpose(C1))\n",
        "Cov2 = np.cov(np.transpose(C2))"
      ]
    },
    {
      "cell_type": "code",
      "execution_count": null,
      "metadata": {
        "scrolled": true,
        "colab": {
          "base_uri": "https://localhost:8080/",
          "height": 297
        },
        "id": "UExxQdxaXPgj",
        "outputId": "b8aed942-d16f-463e-9afb-3838f1c1a0e1"
      },
      "outputs": [
        {
          "output_type": "execute_result",
          "data": {
            "text/plain": [
              "Text(0, 0.5, 'Dim 64: CSP_64')"
            ]
          },
          "metadata": {},
          "execution_count": 13
        },
        {
          "output_type": "display_data",
          "data": {
            "text/plain": [
              "<Figure size 432x288 with 1 Axes>"
            ],
            "image/png": "[encoded data removed]"
          },
          "metadata": {
            "needs_background": "light"
          }
        }
      ],
      "source": [
        "from scipy.linalg import eigh\n",
        "\n",
        "D, W = eigh(Cov1, Cov1+Cov2)\n",
        "CSP_W = W[:, [0, 1, -2, -1]]\n",
        "\n",
        "CSP_C1 = np.matmul(C1, CSP_W)\n",
        "CSP_C2 = np.matmul(C2, CSP_W)\n",
        "\n",
        "CSP_trft_c1 = np.log(np.var(np.reshape(CSP_C1, (200, 50, 4)), 0))\n",
        "CSP_trft_c2 = np.log(np.var(np.reshape(CSP_C2, (200, 50, 4)), 0))\n",
        "# Classificaiton\n",
        "\n",
        "plt.scatter(CSP_trft_c1[:,0], CSP_trft_c1[:,3], c = 'r')\n",
        "plt.scatter(CSP_trft_c2[:,0], CSP_trft_c2[:,3])\n",
        "\n",
        "plt.xlabel('Dim 1: CSP_1')\n",
        "plt.ylabel('Dim 64: CSP_64')"
      ]
    },
    {
      "cell_type": "markdown",
      "metadata": {
        "id": "xFLfDTfUXPgk"
      },
      "source": [
        "![csp2.JPG](attachment:csp2.JPG)"
      ]
    },
    {
      "cell_type": "code",
      "execution_count": null,
      "metadata": {
        "colab": {
          "base_uri": "https://localhost:8080/",
          "height": 282
        },
        "id": "BFG8YOsSXPgl",
        "outputId": "c2f7e8a3-3249-48d0-a5bf-f2490b297220"
      },
      "outputs": [
        {
          "output_type": "execute_result",
          "data": {
            "text/plain": [
              "<matplotlib.collections.PathCollection at 0x7f9ea1957730>"
            ]
          },
          "metadata": {},
          "execution_count": 14
        },
        {
          "output_type": "display_data",
          "data": {
            "text/plain": [
              "<Figure size 432x288 with 1 Axes>"
            ],
            "image/png": "[encoded data removed]"
          },
          "metadata": {
            "needs_background": "light"
          }
        }
      ],
      "source": [
        "CSP_W = W[:, [30, 31, 32, 33]]\n",
        "\n",
        "CSP_C1 = np.matmul(C1, CSP_W)\n",
        "CSP_C2 = np.matmul(C2, CSP_W)\n",
        "\n",
        "CSP_trft_c1 = np.log(np.var(np.reshape(CSP_C1, (200, 50, 4)), 0))\n",
        "CSP_trft_c2 = np.log(np.var(np.reshape(CSP_C2, (200, 50, 4)), 0))\n",
        "# Classificaiton\n",
        "\n",
        "plt.scatter(CSP_trft_c1[:,0], CSP_trft_c1[:,3], c = 'r')\n",
        "plt.scatter(CSP_trft_c2[:,0], CSP_trft_c2[:,3])"
      ]
    },
    {
      "cell_type": "code",
      "execution_count": null,
      "metadata": {
        "colab": {
          "base_uri": "https://localhost:8080/",
          "height": 74
        },
        "id": "AjwWFuA7XPgm",
        "outputId": "fbf65486-93c5-4581-feb1-794a1df4197d"
      },
      "outputs": [
        {
          "output_type": "execute_result",
          "data": {
            "text/plain": [
              "LinearDiscriminantAnalysis()"
            ],
            "text/html": [
              "<style>#sk-container-id-2 {color: black;background-color: white;}#sk-container-id-2 pre{padding: 0;}#sk-container-id-2 div.sk-toggleable {background-color: white;}#sk-container-id-2 label.sk-toggleable__label {cursor: pointer;display: block;width: 100%;margin-bottom: 0;padding: 0.3em;box-sizing: border-box;text-align: center;}#sk-container-id-2 label.sk-toggleable__label-arrow:before {content: \"▸\";float: left;margin-right: 0.25em;color: #696969;}#sk-container-id-2 label.sk-toggleable__label-arrow:hover:before {color: black;}#sk-container-id-2 div.sk-estimator:hover label.sk-toggleable__label-arrow:before {color: black;}#sk-container-id-2 div.sk-toggleable__content {max-height: 0;max-width: 0;overflow: hidden;text-align: left;background-color: #f0f8ff;}#sk-container-id-2 div.sk-toggleable__content pre {margin: 0.2em;color: black;border-radius: 0.25em;background-color: #f0f8ff;}#sk-container-id-2 input.sk-toggleable__control:checked~div.sk-toggleable__content {max-height: 200px;max-width: 100%;overflow: auto;}#sk-container-id-2 input.sk-toggleable__control:checked~label.sk-toggleable__label-arrow:before {content: \"▾\";}#sk-container-id-2 div.sk-estimator input.sk-toggleable__control:checked~label.sk-toggleable__label {background-color: #d4ebff;}#sk-container-id-2 div.sk-label input.sk-toggleable__control:checked~label.sk-toggleable__label {background-color: #d4ebff;}#sk-container-id-2 input.sk-hidden--visually {border: 0;clip: rect(1px 1px 1px 1px);clip: rect(1px, 1px, 1px, 1px);height: 1px;margin: -1px;overflow: hidden;padding: 0;position: absolute;width: 1px;}#sk-container-id-2 div.sk-estimator {font-family: monospace;background-color: #f0f8ff;border: 1px dotted black;border-radius: 0.25em;box-sizing: border-box;margin-bottom: 0.5em;}#sk-container-id-2 div.sk-estimator:hover {background-color: #d4ebff;}#sk-container-id-2 div.sk-parallel-item::after {content: \"\";width: 100%;border-bottom: 1px solid gray;flex-grow: 1;}#sk-container-id-2 div.sk-label:hover label.sk-toggleable__label {background-color: #d4ebff;}#sk-container-id-2 div.sk-serial::before {content: \"\";position: absolute;border-left: 1px solid gray;box-sizing: border-box;top: 0;bottom: 0;left: 50%;z-index: 0;}#sk-container-id-2 div.sk-serial {display: flex;flex-direction: column;align-items: center;background-color: white;padding-right: 0.2em;padding-left: 0.2em;position: relative;}#sk-container-id-2 div.sk-item {position: relative;z-index: 1;}#sk-container-id-2 div.sk-parallel {display: flex;align-items: stretch;justify-content: center;background-color: white;position: relative;}#sk-container-id-2 div.sk-item::before, #sk-container-id-2 div.sk-parallel-item::before {content: \"\";position: absolute;border-left: 1px solid gray;box-sizing: border-box;top: 0;bottom: 0;left: 50%;z-index: -1;}#sk-container-id-2 div.sk-parallel-item {display: flex;flex-direction: column;z-index: 1;position: relative;background-color: white;}#sk-container-id-2 div.sk-parallel-item:first-child::after {align-self: flex-end;width: 50%;}#sk-container-id-2 div.sk-parallel-item:last-child::after {align-self: flex-start;width: 50%;}#sk-container-id-2 div.sk-parallel-item:only-child::after {width: 0;}#sk-container-id-2 div.sk-dashed-wrapped {border: 1px dashed gray;margin: 0 0.4em 0.5em 0.4em;box-sizing: border-box;padding-bottom: 0.4em;background-color: white;}#sk-container-id-2 div.sk-label label {font-family: monospace;font-weight: bold;display: inline-block;line-height: 1.2em;}#sk-container-id-2 div.sk-label-container {text-align: center;}#sk-container-id-2 div.sk-container {/* jupyter's `normalize.less` sets `[hidden] { display: none; }` but bootstrap.min.css set `[hidden] { display: none !important; }` so we also need the `!important` here to be able to override the default hidden behavior on the sphinx rendered scikit-learn.org. See: https://github.com/scikit-learn/scikit-learn/issues/21755 */display: inline-block !important;position: relative;}#sk-container-id-2 div.sk-text-repr-fallback {display: none;}</style><div id=\"sk-container-id-2\" class=\"sk-top-container\"><div class=\"sk-text-repr-fallback\"><pre>LinearDiscriminantAnalysis()</pre><b>In a Jupyter environment, please rerun this cell to show the HTML representation or trust the notebook. <br />On GitHub, the HTML representation is unable to render, please try loading this page with nbviewer.org.</b></div><div class=\"sk-container\" hidden><div class=\"sk-item\"><div class=\"sk-estimator sk-toggleable\"><input class=\"sk-toggleable__control sk-hidden--visually\" id=\"sk-estimator-id-2\" type=\"checkbox\" checked><label for=\"sk-estimator-id-2\" class=\"sk-toggleable__label sk-toggleable__label-arrow\">LinearDiscriminantAnalysis</label><div class=\"sk-toggleable__content\"><pre>LinearDiscriminantAnalysis()</pre></div></div></div></div></div>"
            ]
          },
          "metadata": {},
          "execution_count": 15
        }
      ],
      "source": [
        "Y = np.concatenate((np.ones(len(CSP_trft_c1)), np.ones(len(CSP_trft_c2))+1))\n",
        "clf = LDA()\n",
        "clf.fit(np.concatenate((CSP_trft_c1, CSP_trft_c2), axis = 0), Y)"
      ]
    },
    {
      "cell_type": "markdown",
      "metadata": {
        "id": "wOBTxWmnXPgm"
      },
      "source": [
        "If we use the general parameters, then we do not need a validation dataset. \n",
        "- 8-12 band for all the subject. \n",
        "However, if we want to find user-specific frecuenty bands, then we have to create a validataion dataset\n",
        "- 9-15 for subject 1, 5-20 for subject 2 ...\n",
        "- Training dataset can be divided into training / validation with the specific ratio (50/50). \n",
        "- Cross-validation based on the training dataset"
      ]
    },
    {
      "cell_type": "code",
      "execution_count": null,
      "metadata": {
        "colab": {
          "base_uri": "https://localhost:8080/"
        },
        "id": "DKdvIgO7XPgn",
        "outputId": "2e3c7f26-4679-4516-b9d0-df7cadca9e4a"
      },
      "outputs": [
        {
          "output_type": "execute_result",
          "data": {
            "text/plain": [
              "0.49"
            ]
          },
          "metadata": {},
          "execution_count": 16
        }
      ],
      "source": [
        "te_flt_cnt = my_filt(te_cnt_, band)\n",
        "\n",
        "te_seg = list()\n",
        "for i in range(np.size(te_Label, 1)):\n",
        "    ival = range(te_marker[0, i]+interval[0], te_marker[0, i]+interval[1])\n",
        "    te_seg.append(te_flt_cnt[ival, :] )\n",
        "\n",
        "    \n",
        "C1 = np.array(tr_seg)[np.where(tr_Label[0,:] == 0)]\n",
        "C2 = np.array(tr_seg)[np.where(tr_Label[0,:] == 1)]\n",
        "\n",
        "C1 = np.transpose(C1, (1, 0, 2))\n",
        "C2 = np.transpose(C2, (1, 0, 2))\n",
        "C1 = np.reshape(C1, (10000, np.size(C1, 2)))\n",
        "C2 = np.reshape(C2, (10000, np.size(C2, 2)))\n",
        "    \n",
        "CSP_C1 = np.matmul(C1, CSP_W)\n",
        "CSP_C2 = np.matmul(C2, CSP_W)\n",
        "\n",
        "CSP_teft_c1 = np.log(np.var(np.reshape(CSP_C1, (200, 50, 4)), 0))\n",
        "CSP_teft_c2 = np.log(np.var(np.reshape(CSP_C2, (200, 50, 4)), 0))\n",
        " \n",
        "Yt = np.concatenate((np.ones(len(CSP_teft_c1)), np.ones(len(CSP_teft_c2))+1))\n",
        "clf.predict(np.concatenate((CSP_teft_c1, CSP_teft_c2), axis = 0))\n",
        "accuracy_score(Yt, clf.predict(np.concatenate((CSP_teft_c1, CSP_teft_c2), axis = 0)))"
      ]
    },
    {
      "cell_type": "markdown",
      "metadata": {
        "id": "fF45QoIVXPgo"
      },
      "source": [
        "## Homework\n",
        "- Here we want to find user specific frequency bands\n",
        "\n",
        "1) Define possible frequency bands ( > 5)\n",
        "\n",
        "2) Investigate the performances according to the frequency bands within the training data\n",
        "\n",
        "3) Find one best frequency band and apply it to the test dataset. "
      ]
    },
    {
      "cell_type": "code",
      "execution_count": null,
      "metadata": {
        "id": "L4LRHGHuXPgp"
      },
      "outputs": [],
      "source": [
        "def mi_pipe(dat, label, band = [8, 12], ival=[75, 350] , ch = [], csp = [0, 1, -2, -1]):\n",
        "    sos = butter(5, band, 'band', fs=100, output='sos')   \n",
        "    fdat = list()\n",
        "    for i in range(np.size(dat, 1)):\n",
        "        tm = signal.sosfilt(sos, dat[:,i])\n",
        "        fdat.append(tm)  \n",
        "        \n",
        "    tr_seg = list()\n",
        "    for i in range(np.size(tr_Label, 1)):\n",
        "        ival = range(tr_marker[0, i]+interval[0], tr_marker[0, i]+interval[1])\n",
        "        tr_seg.append(tr_flt_cnt[ival, :] ) \n",
        "\n",
        "    \n",
        "    \n",
        "    "
      ]
    }
  ],
  "metadata": {
    "kernelspec": {
      "display_name": "Python 3",
      "language": "python",
      "name": "python3"
    },
    "language_info": {
      "codemirror_mode": {
        "name": "ipython",
        "version": 3
      },
      "file_extension": ".py",
      "mimetype": "text/x-python",
      "name": "python",
      "nbconvert_exporter": "python",
      "pygments_lexer": "ipython3",
      "version": "3.7.6"
    },
    "colab": {
      "provenance": []
    }
  },
  "nbformat": 4,
  "nbformat_minor": 0
}